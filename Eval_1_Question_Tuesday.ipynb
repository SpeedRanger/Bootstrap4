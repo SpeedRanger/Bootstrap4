{
  "nbformat": 4,
  "nbformat_minor": 0,
  "metadata": {
    "colab": {
      "name": "Eval-1- Question-Tuesday.ipynb",
      "provenance": [],
      "collapsed_sections": [],
      "include_colab_link": true
    },
    "kernelspec": {
      "display_name": "Python 3",
      "language": "python",
      "name": "python3"
    },
    "language_info": {
      "codemirror_mode": {
        "name": "ipython",
        "version": 3
      },
      "file_extension": ".py",
      "mimetype": "text/x-python",
      "name": "python",
      "nbconvert_exporter": "python",
      "pygments_lexer": "ipython3",
      "version": "3.7.7"
    }
  },
  "cells": [
    {
      "cell_type": "markdown",
      "metadata": {
        "id": "view-in-github",
        "colab_type": "text"
      },
      "source": [
        "<a href=\"https://colab.research.google.com/github/SpeedRanger/Bootstrap4/blob/master/Eval_1_Question_Tuesday.ipynb\" target=\"_parent\"><img src=\"https://colab.research.google.com/assets/colab-badge.svg\" alt=\"Open In Colab\"/></a>"
      ]
    },
    {
      "cell_type": "markdown",
      "metadata": {
        "id": "ak-QpJiwR-3p",
        "colab_type": "text"
      },
      "source": [
        "# EVALUATION - 1"
      ]
    },
    {
      "cell_type": "markdown",
      "metadata": {
        "colab_type": "text",
        "id": "_8rI0BMA7W2g"
      },
      "source": [
        "Telecom Churn Datasets\n",
        "\n",
        "Each row represents a customer; each column contains customer’s attributes. The datasets have the following attributes or features:\n",
        "\n",
        "State: string\n",
        "Account length: integer\n",
        "Area code: integer\n",
        "International plan: string\n",
        "Voice mail plan: string\n",
        "Number vmail messages: integer\n",
        "Total day minutes: double\n",
        "Total day calls: integer\n",
        "Total day charge: double\n",
        "Total eve minutes: double\n",
        "Total eve calls: integer\n",
        "Total eve charge: double\n",
        "Total night minutes: double\n",
        "Total night calls: integer\n",
        "Total night charge: double\n",
        "Total intl minutes: double\n",
        "Total intl calls: integer\n",
        "Total intl charge: double\n",
        "Customer service calls: integer\n",
        "Churn: string ( 0-loyal users, 1- churned users)"
      ]
    },
    {
      "cell_type": "code",
      "metadata": {
        "colab_type": "code",
        "id": "VKq2cKzh0MqB",
        "colab": {}
      },
      "source": [
        "import pandas as pd"
      ],
      "execution_count": null,
      "outputs": []
    },
    {
      "cell_type": "code",
      "metadata": {
        "colab_type": "code",
        "id": "l2YevV5I0PZ9",
        "colab": {}
      },
      "source": [
        "df=pd.read_csv('https://raw.githubusercontent.com/Yorko/mlcourse.ai/master/data/telecom_churn.csv')"
      ],
      "execution_count": null,
      "outputs": []
    },
    {
      "cell_type": "code",
      "metadata": {
        "colab_type": "code",
        "id": "x0ROCLUI0Uc0",
        "colab": {
          "base_uri": "https://localhost:8080/",
          "height": 229
        },
        "outputId": "1a75d0d7-fb65-40cf-9096-d87d0e576a66"
      },
      "source": [
        "df.head(5)"
      ],
      "execution_count": null,
      "outputs": [
        {
          "output_type": "execute_result",
          "data": {
            "text/html": [
              "<div>\n",
              "<style scoped>\n",
              "    .dataframe tbody tr th:only-of-type {\n",
              "        vertical-align: middle;\n",
              "    }\n",
              "\n",
              "    .dataframe tbody tr th {\n",
              "        vertical-align: top;\n",
              "    }\n",
              "\n",
              "    .dataframe thead th {\n",
              "        text-align: right;\n",
              "    }\n",
              "</style>\n",
              "<table border=\"1\" class=\"dataframe\">\n",
              "  <thead>\n",
              "    <tr style=\"text-align: right;\">\n",
              "      <th></th>\n",
              "      <th>State</th>\n",
              "      <th>Account length</th>\n",
              "      <th>Area code</th>\n",
              "      <th>International plan</th>\n",
              "      <th>Voice mail plan</th>\n",
              "      <th>Number vmail messages</th>\n",
              "      <th>Total day minutes</th>\n",
              "      <th>Total day calls</th>\n",
              "      <th>Total day charge</th>\n",
              "      <th>Total eve minutes</th>\n",
              "      <th>Total eve calls</th>\n",
              "      <th>Total eve charge</th>\n",
              "      <th>Total night minutes</th>\n",
              "      <th>Total night calls</th>\n",
              "      <th>Total night charge</th>\n",
              "      <th>Total intl minutes</th>\n",
              "      <th>Total intl calls</th>\n",
              "      <th>Total intl charge</th>\n",
              "      <th>Customer service calls</th>\n",
              "      <th>Churn</th>\n",
              "    </tr>\n",
              "  </thead>\n",
              "  <tbody>\n",
              "    <tr>\n",
              "      <th>0</th>\n",
              "      <td>KS</td>\n",
              "      <td>128</td>\n",
              "      <td>415</td>\n",
              "      <td>No</td>\n",
              "      <td>Yes</td>\n",
              "      <td>25</td>\n",
              "      <td>265.1</td>\n",
              "      <td>110</td>\n",
              "      <td>45.07</td>\n",
              "      <td>197.4</td>\n",
              "      <td>99</td>\n",
              "      <td>16.78</td>\n",
              "      <td>244.7</td>\n",
              "      <td>91</td>\n",
              "      <td>11.01</td>\n",
              "      <td>10.0</td>\n",
              "      <td>3</td>\n",
              "      <td>2.70</td>\n",
              "      <td>1</td>\n",
              "      <td>False</td>\n",
              "    </tr>\n",
              "    <tr>\n",
              "      <th>1</th>\n",
              "      <td>OH</td>\n",
              "      <td>107</td>\n",
              "      <td>415</td>\n",
              "      <td>No</td>\n",
              "      <td>Yes</td>\n",
              "      <td>26</td>\n",
              "      <td>161.6</td>\n",
              "      <td>123</td>\n",
              "      <td>27.47</td>\n",
              "      <td>195.5</td>\n",
              "      <td>103</td>\n",
              "      <td>16.62</td>\n",
              "      <td>254.4</td>\n",
              "      <td>103</td>\n",
              "      <td>11.45</td>\n",
              "      <td>13.7</td>\n",
              "      <td>3</td>\n",
              "      <td>3.70</td>\n",
              "      <td>1</td>\n",
              "      <td>False</td>\n",
              "    </tr>\n",
              "    <tr>\n",
              "      <th>2</th>\n",
              "      <td>NJ</td>\n",
              "      <td>137</td>\n",
              "      <td>415</td>\n",
              "      <td>No</td>\n",
              "      <td>No</td>\n",
              "      <td>0</td>\n",
              "      <td>243.4</td>\n",
              "      <td>114</td>\n",
              "      <td>41.38</td>\n",
              "      <td>121.2</td>\n",
              "      <td>110</td>\n",
              "      <td>10.30</td>\n",
              "      <td>162.6</td>\n",
              "      <td>104</td>\n",
              "      <td>7.32</td>\n",
              "      <td>12.2</td>\n",
              "      <td>5</td>\n",
              "      <td>3.29</td>\n",
              "      <td>0</td>\n",
              "      <td>False</td>\n",
              "    </tr>\n",
              "    <tr>\n",
              "      <th>3</th>\n",
              "      <td>OH</td>\n",
              "      <td>84</td>\n",
              "      <td>408</td>\n",
              "      <td>Yes</td>\n",
              "      <td>No</td>\n",
              "      <td>0</td>\n",
              "      <td>299.4</td>\n",
              "      <td>71</td>\n",
              "      <td>50.90</td>\n",
              "      <td>61.9</td>\n",
              "      <td>88</td>\n",
              "      <td>5.26</td>\n",
              "      <td>196.9</td>\n",
              "      <td>89</td>\n",
              "      <td>8.86</td>\n",
              "      <td>6.6</td>\n",
              "      <td>7</td>\n",
              "      <td>1.78</td>\n",
              "      <td>2</td>\n",
              "      <td>False</td>\n",
              "    </tr>\n",
              "    <tr>\n",
              "      <th>4</th>\n",
              "      <td>OK</td>\n",
              "      <td>75</td>\n",
              "      <td>415</td>\n",
              "      <td>Yes</td>\n",
              "      <td>No</td>\n",
              "      <td>0</td>\n",
              "      <td>166.7</td>\n",
              "      <td>113</td>\n",
              "      <td>28.34</td>\n",
              "      <td>148.3</td>\n",
              "      <td>122</td>\n",
              "      <td>12.61</td>\n",
              "      <td>186.9</td>\n",
              "      <td>121</td>\n",
              "      <td>8.41</td>\n",
              "      <td>10.1</td>\n",
              "      <td>3</td>\n",
              "      <td>2.73</td>\n",
              "      <td>3</td>\n",
              "      <td>False</td>\n",
              "    </tr>\n",
              "  </tbody>\n",
              "</table>\n",
              "</div>"
            ],
            "text/plain": [
              "  State  Account length  ...  Customer service calls  Churn\n",
              "0    KS             128  ...                       1  False\n",
              "1    OH             107  ...                       1  False\n",
              "2    NJ             137  ...                       0  False\n",
              "3    OH              84  ...                       2  False\n",
              "4    OK              75  ...                       3  False\n",
              "\n",
              "[5 rows x 20 columns]"
            ]
          },
          "metadata": {
            "tags": []
          },
          "execution_count": 3
        }
      ]
    },
    {
      "cell_type": "markdown",
      "metadata": {
        "colab_type": "text",
        "id": "FsuMmMTU0Y7g"
      },
      "source": [
        "# 1. display the number of rows of the dataset - 1 Mark"
      ]
    },
    {
      "cell_type": "code",
      "metadata": {
        "colab_type": "code",
        "id": "M7blb0510Vmu",
        "scrolled": true,
        "colab": {
          "base_uri": "https://localhost:8080/",
          "height": 34
        },
        "outputId": "a328906f-5e28-439b-c0b8-b0b4e16eb521"
      },
      "source": [
        "def no_rows():\n",
        "    rows=df.shape[0]\n",
        "    return rows# # Write your code here\n",
        "no_rows()"
      ],
      "execution_count": null,
      "outputs": [
        {
          "output_type": "execute_result",
          "data": {
            "text/plain": [
              "3333"
            ]
          },
          "metadata": {
            "tags": []
          },
          "execution_count": 4
        }
      ]
    },
    {
      "cell_type": "markdown",
      "metadata": {
        "colab_type": "text",
        "id": "LC_yoCdm0oM6"
      },
      "source": [
        "# 2. select only string columns and display first 3 valueses - 1 Mark"
      ]
    },
    {
      "cell_type": "code",
      "metadata": {
        "colab_type": "code",
        "id": "xGNJyNH90hcV",
        "colab": {
          "base_uri": "https://localhost:8080/",
          "height": 136
        },
        "outputId": "2190f599-575e-41e5-cfb6-adc0ca57c9c7"
      },
      "source": [
        "def col_name():\n",
        "    cols=df.select_dtypes(include=['object'])\n",
        "    # print(cols)\n",
        "    return cols.head(3)# Write your code here\n",
        "col_name()"
      ],
      "execution_count": null,
      "outputs": [
        {
          "output_type": "execute_result",
          "data": {
            "text/html": [
              "<div>\n",
              "<style scoped>\n",
              "    .dataframe tbody tr th:only-of-type {\n",
              "        vertical-align: middle;\n",
              "    }\n",
              "\n",
              "    .dataframe tbody tr th {\n",
              "        vertical-align: top;\n",
              "    }\n",
              "\n",
              "    .dataframe thead th {\n",
              "        text-align: right;\n",
              "    }\n",
              "</style>\n",
              "<table border=\"1\" class=\"dataframe\">\n",
              "  <thead>\n",
              "    <tr style=\"text-align: right;\">\n",
              "      <th></th>\n",
              "      <th>State</th>\n",
              "      <th>International plan</th>\n",
              "      <th>Voice mail plan</th>\n",
              "    </tr>\n",
              "  </thead>\n",
              "  <tbody>\n",
              "    <tr>\n",
              "      <th>0</th>\n",
              "      <td>KS</td>\n",
              "      <td>No</td>\n",
              "      <td>Yes</td>\n",
              "    </tr>\n",
              "    <tr>\n",
              "      <th>1</th>\n",
              "      <td>OH</td>\n",
              "      <td>No</td>\n",
              "      <td>Yes</td>\n",
              "    </tr>\n",
              "    <tr>\n",
              "      <th>2</th>\n",
              "      <td>NJ</td>\n",
              "      <td>No</td>\n",
              "      <td>No</td>\n",
              "    </tr>\n",
              "  </tbody>\n",
              "</table>\n",
              "</div>"
            ],
            "text/plain": [
              "  State International plan Voice mail plan\n",
              "0    KS                 No             Yes\n",
              "1    OH                 No             Yes\n",
              "2    NJ                 No              No"
            ]
          },
          "metadata": {
            "tags": []
          },
          "execution_count": 9
        }
      ]
    },
    {
      "cell_type": "markdown",
      "metadata": {
        "colab_type": "text",
        "id": "xmmoO1z704dH"
      },
      "source": [
        "# 3. convert the churn datatype to int and display the type of churn column - 1 Mark"
      ]
    },
    {
      "cell_type": "code",
      "metadata": {
        "colab_type": "code",
        "id": "6oZWha7D0yMP",
        "colab": {
          "base_uri": "https://localhost:8080/",
          "height": 34
        },
        "outputId": "6a6cf6f9-a135-4299-87bc-1c0a5368c00f"
      },
      "source": [
        "def change_type():\n",
        "    df['Churn']=df['Churn'].astype(int)\n",
        "    return (df['Churn'].dtypes)# Write your code here\n",
        "change_type()"
      ],
      "execution_count": null,
      "outputs": [
        {
          "output_type": "execute_result",
          "data": {
            "text/plain": [
              "dtype('int64')"
            ]
          },
          "metadata": {
            "tags": []
          },
          "execution_count": 13
        }
      ]
    },
    {
      "cell_type": "markdown",
      "metadata": {
        "colab_type": "text",
        "id": "TMgT8bM61O9-"
      },
      "source": [
        "# 4. print the most frequently occuring value for state, international plan and voice mail plan from summary statistics -  1 Mark"
      ]
    },
    {
      "cell_type": "code",
      "metadata": {
        "colab_type": "code",
        "id": "wNe-JUbS1ALp",
        "colab": {
          "base_uri": "https://localhost:8080/",
          "height": 84
        },
        "outputId": "cde1b844-51d3-4c23-e6e3-03015cd42071"
      },
      "source": [
        "def dis_summary():\n",
        "    print(df['State'].mode(),df['International plan'].mode(),df['Voice mail plan'].mode())\n",
        "    return # Write your code here\n",
        "\n",
        "dis_summary()"
      ],
      "execution_count": null,
      "outputs": [
        {
          "output_type": "stream",
          "text": [
            "0    WV\n",
            "dtype: object 0    No\n",
            "dtype: object 0    No\n",
            "dtype: object\n"
          ],
          "name": "stdout"
        }
      ]
    },
    {
      "cell_type": "markdown",
      "metadata": {
        "colab_type": "text",
        "id": "0VkXkdgS3Ivc"
      },
      "source": [
        "# 5. What is the percentage of churn in each category - 1 Mark"
      ]
    },
    {
      "cell_type": "code",
      "metadata": {
        "colab_type": "code",
        "id": "kp1dF41K29er",
        "colab": {
          "base_uri": "https://localhost:8080/",
          "height": 67
        },
        "outputId": "c054ca49-3874-4262-b57e-37a1e70ff954"
      },
      "source": [
        "def perc_churn():\n",
        "    percent=df['Churn'].value_counts()/df.shape[0] * 100\n",
        "    return percent# Write your code here\n",
        "perc_churn()\n"
      ],
      "execution_count": null,
      "outputs": [
        {
          "output_type": "execute_result",
          "data": {
            "text/plain": [
              "0    85.508551\n",
              "1    14.491449\n",
              "Name: Churn, dtype: float64"
            ]
          },
          "metadata": {
            "tags": []
          },
          "execution_count": 20
        }
      ]
    },
    {
      "cell_type": "markdown",
      "metadata": {
        "colab_type": "text",
        "id": "GXy77UDm3Yni"
      },
      "source": [
        "# 6. sort the dataframe in the descending order of Total day charge and display first 5 states - 1 Mark"
      ]
    },
    {
      "cell_type": "code",
      "metadata": {
        "colab_type": "code",
        "id": "psBPV9qs3NzL",
        "colab": {
          "base_uri": "https://localhost:8080/",
          "height": 118
        },
        "outputId": "48dcc422-327d-44f9-e8f7-46d4047a1a7e"
      },
      "source": [
        "def sort_disp():\n",
        "    df.sort_values(by=['Total day charge'],ascending=False,inplace=True)\n",
        "    return df.iloc[0:5,0]# Write your code here\n",
        "sort_disp()\n"
      ],
      "execution_count": null,
      "outputs": [
        {
          "output_type": "execute_result",
          "data": {
            "text/plain": [
              "365     CO\n",
              "985     NY\n",
              "2594    OH\n",
              "156     OH\n",
              "605     MO\n",
              "Name: State, dtype: object"
            ]
          },
          "metadata": {
            "tags": []
          },
          "execution_count": 23
        }
      ]
    },
    {
      "cell_type": "markdown",
      "metadata": {
        "colab_type": "text",
        "id": "sQE8hmrw3uKQ"
      },
      "source": [
        "# 7. sort the dataframe in the ascending order of churn and then dy descending order of total dat charge and display first area code and account length - 1 Mark"
      ]
    },
    {
      "cell_type": "code",
      "metadata": {
        "colab_type": "code",
        "id": "0LlB1yj_3lpE",
        "colab": {
          "base_uri": "https://localhost:8080/",
          "height": 67
        },
        "outputId": "e0930022-a561-45c8-a14b-c953bd9e0cb0"
      },
      "source": [
        "def sort_val1():\n",
        "    df.sort_values(by=['Churn','Total day charge'],ascending=['True','False'],inplace=True)\n",
        "    return df.iloc[0,[2,1]]# Write your code here\n",
        "sort_val1()\n"
      ],
      "execution_count": null,
      "outputs": [
        {
          "output_type": "execute_result",
          "data": {
            "text/plain": [
              "Area code         510\n",
              "Account length    101\n",
              "Name: 1397, dtype: object"
            ]
          },
          "metadata": {
            "tags": []
          },
          "execution_count": 25
        }
      ]
    },
    {
      "cell_type": "markdown",
      "metadata": {
        "colab_type": "text",
        "id": "RQackhW-4DiV"
      },
      "source": [
        "# 8. What are average values of all columns for churned users? - 1 Mark"
      ]
    },
    {
      "cell_type": "code",
      "metadata": {
        "colab_type": "code",
        "id": "RBs5tCEs36gr",
        "colab": {
          "base_uri": "https://localhost:8080/",
          "height": 319
        },
        "outputId": "ac65f167-ca09-4017-c429-7d09a93fcbae"
      },
      "source": [
        "def avg_churn():\n",
        "    # df[df['Churn']==True].mean()\n",
        "    return df[df['Churn']==True].mean()# Write your code here\n",
        "avg_churn()\n"
      ],
      "execution_count": null,
      "outputs": [
        {
          "output_type": "execute_result",
          "data": {
            "text/plain": [
              "Account length            102.664596\n",
              "Area code                 437.817805\n",
              "Number vmail messages       5.115942\n",
              "Total day minutes         206.914079\n",
              "Total day calls           101.335404\n",
              "Total day charge           35.175921\n",
              "Total eve minutes         212.410145\n",
              "Total eve calls           100.561077\n",
              "Total eve charge           18.054969\n",
              "Total night minutes       205.231677\n",
              "Total night calls         100.399586\n",
              "Total night charge          9.235528\n",
              "Total intl minutes         10.700000\n",
              "Total intl calls            4.163561\n",
              "Total intl charge           2.889545\n",
              "Customer service calls      2.229814\n",
              "Churn                       1.000000\n",
              "dtype: float64"
            ]
          },
          "metadata": {
            "tags": []
          },
          "execution_count": 26
        }
      ]
    },
    {
      "cell_type": "markdown",
      "metadata": {
        "colab_type": "text",
        "id": "hlCLODXz4drQ"
      },
      "source": [
        "# 9. What is the maximum length of voice mail calls for loyal users  who do not have an international plan? - 1 Mark"
      ]
    },
    {
      "cell_type": "code",
      "metadata": {
        "colab_type": "code",
        "id": "I65-ew6R4I_9",
        "colab": {
          "base_uri": "https://localhost:8080/",
          "height": 34
        },
        "outputId": "3ad35be7-4d6f-4027-baea-02d603be6bdd"
      },
      "source": [
        "def max_val():\n",
        "    # print(df[(df['Churn']==False) & (df['International plan']=='No')]['Total intl minutes'].max() )\n",
        "    return df[(df['Churn']==False) & (df['International plan']=='No')]['Total intl minutes'].max() # Write your code here\n",
        "max_val()\n"
      ],
      "execution_count": null,
      "outputs": [
        {
          "output_type": "execute_result",
          "data": {
            "text/plain": [
              "18.9"
            ]
          },
          "metadata": {
            "tags": []
          },
          "execution_count": 35
        }
      ]
    },
    {
      "cell_type": "markdown",
      "metadata": {
        "colab_type": "text",
        "id": "lviJNmM54pYX"
      },
      "source": [
        "# 10. display max value of all columns - 1 Mark"
      ]
    },
    {
      "cell_type": "code",
      "metadata": {
        "colab_type": "code",
        "id": "eb4U-gdX4h-X",
        "colab": {
          "base_uri": "https://localhost:8080/",
          "height": 370
        },
        "outputId": "cdeae76a-766e-40f3-90cb-e597ca038007"
      },
      "source": [
        "\n",
        "def max_all():\n",
        "    # Write your code here\n",
        "    return df.max()# Write your code here\n",
        "max_all()\n"
      ],
      "execution_count": null,
      "outputs": [
        {
          "output_type": "execute_result",
          "data": {
            "text/plain": [
              "State                        WY\n",
              "Account length              243\n",
              "Area code                   510\n",
              "International plan          Yes\n",
              "Voice mail plan             Yes\n",
              "Number vmail messages        51\n",
              "Total day minutes         350.8\n",
              "Total day calls             165\n",
              "Total day charge          59.64\n",
              "Total eve minutes         363.7\n",
              "Total eve calls             170\n",
              "Total eve charge          30.91\n",
              "Total night minutes         395\n",
              "Total night calls           175\n",
              "Total night charge        17.77\n",
              "Total intl minutes           20\n",
              "Total intl calls             20\n",
              "Total intl charge           5.4\n",
              "Customer service calls        9\n",
              "Churn                         1\n",
              "dtype: object"
            ]
          },
          "metadata": {
            "tags": []
          },
          "execution_count": 37
        }
      ]
    },
    {
      "cell_type": "code",
      "metadata": {
        "id": "aNaNTOA3R-4P",
        "colab_type": "code",
        "colab": {}
      },
      "source": [
        ""
      ],
      "execution_count": null,
      "outputs": []
    }
  ]
}